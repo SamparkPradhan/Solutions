{
 "cells": [
  {
   "cell_type": "code",
   "execution_count": 32,
   "metadata": {},
   "outputs": [
    {
     "name": "stdout",
     "output_type": "stream",
     "text": [
      "234\n",
      "   2  3  4\n",
      "0  a  d  g\n",
      "1  b  e  h\n",
      "2  c  f  i\n",
      "3  0  0  0\n",
      "[('a', 'd', 'g'), ('a', 'd', 'h'), ('a', 'd', 'i'), ('a', 'e', 'g'), ('a', 'e', 'h'), ('a', 'e', 'i'), ('a', 'f', 'g'), ('a', 'f', 'h'), ('a', 'f', 'i'), ('b', 'd', 'g'), ('b', 'd', 'h'), ('b', 'd', 'i'), ('b', 'e', 'g'), ('b', 'e', 'h'), ('b', 'e', 'i'), ('b', 'f', 'g'), ('b', 'f', 'h'), ('b', 'f', 'i'), ('c', 'd', 'g'), ('c', 'd', 'h'), ('c', 'd', 'i'), ('c', 'e', 'g'), ('c', 'e', 'h'), ('c', 'e', 'i'), ('c', 'f', 'g'), ('c', 'f', 'h'), ('c', 'f', 'i')]\n"
     ]
    }
   ],
   "source": [
    "import pandas as pd\n",
    "import numpy as np\n",
    "from itertools import product\n",
    "\n",
    "# taking '0' as dummy value to avoid edge cases\n",
    "mapping = {'1':'','2':['a','b','c','0'],'3':['d','e','f','0'],\n",
    "           '4':['g','h','i','0'],'5':['j','k','l','0'],\n",
    "           '6':['m','n','o','0'],'7':['p','q','r','s'],\n",
    "           '8':['t','u','v', '0'],'9':['w','x','y','z']}\n",
    "\n",
    "# creating data frame of all mapping\n",
    "df = pd.DataFrame(mapping)\n",
    "\n",
    "# taking input as n\n",
    "n = str(input())\n",
    "\n",
    "# storing each numbers in alist\n",
    "n = list(n)\n",
    "\n",
    "# required dataframe subsets\n",
    "df = df[n]\n",
    "print(df)\n",
    "\n",
    "# combination of all required values\n",
    "a = list(product(*df.values.T))\n",
    "\n",
    "# removing the dummy cases\n",
    "a = [i for i in a if '0' not in i]\n",
    "\n",
    "# solution\n",
    "print(a)"
   ]
  },
  {
   "cell_type": "code",
   "execution_count": null,
   "metadata": {},
   "outputs": [],
   "source": []
  }
 ],
 "metadata": {
  "kernelspec": {
   "display_name": "Python 3",
   "language": "python",
   "name": "python3"
  },
  "language_info": {
   "codemirror_mode": {
    "name": "ipython",
    "version": 3
   },
   "file_extension": ".py",
   "mimetype": "text/x-python",
   "name": "python",
   "nbconvert_exporter": "python",
   "pygments_lexer": "ipython3",
   "version": "3.7.3"
  }
 },
 "nbformat": 4,
 "nbformat_minor": 2
}
